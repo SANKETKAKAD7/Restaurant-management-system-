{
 "cells": [
  {
   "cell_type": "code",
   "execution_count": 17,
   "metadata": {},
   "outputs": [
    {
     "name": "stdout",
     "output_type": "stream",
     "text": [
      "Welcome to python restruent.select your meanu\n",
      "Pizza=80\n",
      "Pasta=90\n",
      "Burger=60\n",
      "Coffee=40\n",
      "your item Pizza has been add in order\n",
      "your item Burger has been add in order\n",
      "total amount of item you pay 140\n"
     ]
    }
   ],
   "source": [
    "# Menu dictionary with items and their prices\n",
    "menu = {\n",
    "    'Pizza': 80,\n",
    "    'Pasta': 90,\n",
    "    'Burger': 60,\n",
    "    'Coffee': 40\n",
    "}\n",
    "\n",
    "# Displaying the menu\n",
    "print(\"Welcome to Python Restaurant. Select your menu item:\")\n",
    "print(\"Pizza = 80\\nPasta = 90\\nBurger = 60\\nCoffee = 40\")\n",
    "\n",
    "# Initialize order total\n",
    "order_total = 0\n",
    "\n",
    "# Taking the first item order\n",
    "item1 = input(\"Enter the item: \")\n",
    "if item1 in menu:\n",
    "    order_total += menu[item1]  # Adding item price to total\n",
    "    print(f'Your item {item1} has been added to the order.')\n",
    "else:\n",
    "    print(\"Item not available. Please order something else.\")\n",
    "\n",
    "# Asking if the user wants to order another item\n",
    "another_order = input(\"Do you want to add another item? (yes/no): \")\n",
    "if another_order.lower() == \"yes\":\n",
    "    item2 = input(\"Enter your item: \")\n",
    "    if item2 in menu:\n",
    "        order_total += menu[item2]  # Adding second item price to total\n",
    "        print(f'Your item {item2} has been added to the order.')\n",
    "    else:\n",
    "        print(f'{item2} is not available.')\n",
    "\n",
    "# Displaying the total amount to be paid\n",
    "print(f'Total amount to be paid: {order_total}')\n",
    "      "
   ]
  }
 ],
 "metadata": {
  "kernelspec": {
   "display_name": "base",
   "language": "python",
   "name": "python3"
  },
  "language_info": {
   "codemirror_mode": {
    "name": "ipython",
    "version": 3
   },
   "file_extension": ".py",
   "mimetype": "text/x-python",
   "name": "python",
   "nbconvert_exporter": "python",
   "pygments_lexer": "ipython3",
   "version": "3.12.4"
  }
 },
 "nbformat": 4,
 "nbformat_minor": 2
}
